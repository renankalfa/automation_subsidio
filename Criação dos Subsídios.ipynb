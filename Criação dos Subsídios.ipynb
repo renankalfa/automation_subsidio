{
 "cells": [
  {
   "cell_type": "markdown",
   "id": "ad43f554",
   "metadata": {},
   "source": [
    "## Criação automática de subsídios"
   ]
  },
  {
   "attachments": {
    "image.png": {
     "image/png": "[encoded data removed]"
    }
   },
   "cell_type": "markdown",
   "id": "279d06f8",
   "metadata": {},
   "source": [
    "Estrutura\n",
    "- Ação no estado de {**nome do estado**} ({sigla do estado})\n",
    "- No Estado de {**nome do estado**}, destacamos os seguintes instrumentos de transferência voluntária afeto ao enfrentamento à violência contra as mulheres: \n",
    "\n",
    "- Convênios, contratos de repasse (todos que existirem)\n",
    "\n",
    "![image.png](attachment:image.png)"
   ]
  },
  {
   "cell_type": "markdown",
   "id": "e1fc7600",
   "metadata": {},
   "source": [
    "## 1.Import Libraries and Data"
   ]
  },
  {
   "cell_type": "code",
   "execution_count": 1,
   "id": "5818b4fd",
   "metadata": {},
   "outputs": [],
   "source": [
    "import datetime\n",
    "from num2words import num2words\n",
    "\n",
    "# Base de dados\n",
    "import pandas as pd\n",
    "import numpy as np\n",
    "\n",
    "# Documento\n",
    "from docx import Document\n",
    "from docx.shared import Inches\n",
    "from docx.enum.style import WD_STYLE_TYPE\n",
    "from docx.enum.table import WD_TABLE_ALIGNMENT\n",
    "from docx.enum.text import WD_ALIGN_PARAGRAPH\n",
    "from docx.shared import Pt, RGBColor, Inches"
   ]
  },
  {
   "cell_type": "markdown",
   "id": "bc2169f4",
   "metadata": {},
   "source": [
    "## 2. Sharepoint Connect\n",
    "\n",
    "Conseguir conectar ao sharepoint para não ter que baixar a planilha manualmente."
   ]
  },
  {
   "cell_type": "code",
   "execution_count": 2,
   "id": "cd9fad16",
   "metadata": {},
   "outputs": [],
   "source": [
    "data_convenios = pd.read_excel('INSTRUMENTOS DEV.SNPM.xlsx', sheet_name='Convênios 2018.2022').loc[:100, :]\n",
    "data_act = pd.read_excel('INSTRUMENTOS DEV.SNPM.xlsx', sheet_name='ACT 2018-2022')\n",
    "data_contratos = pd.read_excel('INSTRUMENTOS DEV.SNPM.xlsx', sheet_name='Contratos de Repasse.2018.2022').loc[:30, :]\n",
    "data_teds = pd.read_excel('INSTRUMENTOS DEV.SNPM.xlsx', sheet_name='TEDS 2018.2022').loc[:4, :]"
   ]
  },
  {
   "cell_type": "markdown",
   "id": "3db7e84c",
   "metadata": {},
   "source": [
    "### Funções e variáveis auxiliares"
   ]
  },
  {
   "cell_type": "markdown",
   "id": "256fc499",
   "metadata": {},
   "source": [
    "#### Nome do mês por extenso"
   ]
  },
  {
   "cell_type": "code",
   "execution_count": 3,
   "id": "6cd774cf",
   "metadata": {},
   "outputs": [],
   "source": [
    "month_name = {'1': 'janeiro', '2': 'fevereiro', '3': 'março', '4': 'abril', '5': 'maio', '6': 'junho', '7': 'julho', '8': 'agosto', '9': 'setembro', '10': 'outubro', '11': 'novembro', '12': 'dezembro'}"
   ]
  },
  {
   "cell_type": "markdown",
   "id": "e232a409",
   "metadata": {},
   "source": [
    "#### Nome da UF por extenso"
   ]
  },
  {
   "cell_type": "code",
   "execution_count": 4,
   "id": "ed67cfe3",
   "metadata": {},
   "outputs": [],
   "source": [
    "estados = {\n",
    "    'AC': 'Acre',\n",
    "    'AL': 'Alagoas',\n",
    "    'AP': 'Amapá',\n",
    "    'AM': 'Amazonas',\n",
    "    'BA': 'Bahia',\n",
    "    'CE': 'Ceará',\n",
    "    'DF': 'Distrito Federal',\n",
    "    'ES': 'Espírito Santo',\n",
    "    'GO': 'Goiás',\n",
    "    'MA': 'Maranhão',\n",
    "    'MT': 'Mato Grosso',\n",
    "    'MS': 'Mato Grosso do Sul',\n",
    "    'MG': 'Minas Gerais',\n",
    "    'PA': 'Pará',\n",
    "    'PB': 'Paraíba',\n",
    "    'PR': 'Paraná',\n",
    "    'PE': 'Pernambuco',\n",
    "    'PI': 'Piauí',\n",
    "    'RJ': 'Rio de Janeiro',\n",
    "    'RN': 'Rio Grande do Norte',\n",
    "    'RS': 'Rio Grande do Sul',\n",
    "    'RO': 'Rondônia',\n",
    "    'RR': 'Roraima',\n",
    "    'SC': 'Santa Catarina',\n",
    "    'SP': 'São Paulo',\n",
    "    'SE': 'Sergipe',\n",
    "    'TO': 'Tocantins'\n",
    "}"
   ]
  },
  {
   "cell_type": "markdown",
   "id": "53b4e2af",
   "metadata": {},
   "source": [
    "#### Número por Extenso"
   ]
  },
  {
   "cell_type": "code",
   "execution_count": 5,
   "id": "776d485f",
   "metadata": {},
   "outputs": [],
   "source": [
    "from num2words import num2words\n",
    "\n",
    "def number_to_long_number(number_p):\n",
    "    if number_p.find('.')!=-1:\n",
    "        number_p = number_p.split('.')\n",
    "        number_p1 = int(number_p[0].replace('.',''))\n",
    "        number_p2 = int(number_p[1])\n",
    "    else:\n",
    "        number_p1 = int(number_p.replace('.',''))\n",
    "        number_p2 = 0    \n",
    "    if number_p1 == 1:\n",
    "        aux1 = ' real'\n",
    "    else:\n",
    "        aux1 = ' reais'  \n",
    "    if number_p2 == 1:\n",
    "        aux2 = ' centavo'\n",
    "    else:\n",
    "        aux2 = ' centavos'\n",
    "    text1 = ''\n",
    "    if number_p1 > 0:\n",
    "        text1 = num2words(number_p1,lang='pt_BR') + str(aux1)\n",
    "    else:\n",
    "        text1 = ''\n",
    "    if number_p2 > 0:\n",
    "        text2 = num2words(number_p2,lang='pt_BR') + str(aux2) \n",
    "    else: \n",
    "        text2 = ''\n",
    "    if (number_p1 > 0 and number_p2 > 0):\n",
    "        result = text1 + ' e ' + text2\n",
    "    else:\n",
    "        result = text1 + text2\n",
    "    return result"
   ]
  },
  {
   "cell_type": "code",
   "execution_count": 6,
   "id": "6f51ab30",
   "metadata": {},
   "outputs": [
    {
     "name": "stdout",
     "output_type": "stream",
     "text": [
      "doze reais e cinco centavos\n"
     ]
    }
   ],
   "source": [
    "print(number_to_long_number('12.5'))"
   ]
  },
  {
   "cell_type": "markdown",
   "id": "d8cf58c9",
   "metadata": {},
   "source": [
    "## 3. Geração do documento"
   ]
  },
  {
   "cell_type": "code",
   "execution_count": 28,
   "id": "96e00161",
   "metadata": {},
   "outputs": [
    {
     "name": "stdout",
     "output_type": "stream",
     "text": [
      "['Partido Kafa', 'Emenda sd']\n"
     ]
    }
   ],
   "source": [
    "texto = '''Partido Kafa\n",
    "Emenda sd'''\n",
    "print(texto.split('\\n'))"
   ]
  },
  {
   "cell_type": "code",
   "execution_count": 27,
   "id": "2f8f1554",
   "metadata": {},
   "outputs": [],
   "source": [
    "def gerar_subsidio_uf(uf):\n",
    "    doc_subsidio = Document()\n",
    "    style = doc_subsidio.styles['Normal']\n",
    "    font = style.font\n",
    "    \n",
    "    font.name = 'Calibri'\n",
    "    font.size = Pt(12)\n",
    "    \n",
    "    # Base de dados\n",
    "    data_temp_conv = data_convenios.loc[data_convenios['UF'] == uf, :]\n",
    "    data_temp_ct = data_contratos.loc[data_contratos['UF'] == uf, :]\n",
    "    data_temp_ted = data_teds.loc[data_teds['UF'] == uf, :]\n",
    "    data_temp_act = data_act.loc[data_act['UF'] == uf, :]\n",
    "    \n",
    "    # Variáveis\n",
    "    vt_conv = f'{data_temp_conv[\"VALOR DO CONVÊNIO\"].sum():.2f}'\n",
    "    vt_conv_text = num2words(int(data_temp_conv[\"VALOR DO CONVÊNIO\"].sum()), lang='pt-br')\n",
    "    vr_conv = f'{data_temp_conv[\"VALOR DE REPASSE\"].sum():.2f}'\n",
    "    \n",
    "    vt_cont = f'{data_temp_ct[\"VALOR TOTAL DO CONVÊNIO\"].sum():.2f}'\n",
    "    vr_cont = f'{data_temp_ct[\"VALOR DE REPASSE\"].sum():.2f}'\n",
    "    \n",
    "    vt_ted = f'{data_temp_ted[\"VALOR TOTAL DO CONVÊNIO\"].sum():.2f}'\n",
    "    vr_ted = f'{data_temp_ted[\"VALOR DE REPASSE\"].sum():.2f}'\n",
    "    \n",
    "    # Cabeçalho\n",
    "    doc_subsidio.add_picture('imagens\\governo_federal_logo.png', width=Inches(0.8), height=Inches(0.8))\n",
    "    last_paragraph = doc_subsidio.paragraphs[-1] \n",
    "    last_paragraph.alignment = WD_ALIGN_PARAGRAPH.CENTER\n",
    "    cabecalho = doc_subsidio.add_paragraph()\n",
    "    cabecalho.alignment = WD_ALIGN_PARAGRAPH.CENTER\n",
    "    p = cabecalho.add_run(f'MINISTÉRIO DA MULHER, DA FAMÍLIA E DOS DIREITOS HUMANOS (MMFDH) \\nSECRETARIA NACIONAL DE POLÍTICAS PARA MULHERES (SNPM) \\n \\n{estados[uf].upper()}') \n",
    "    p.bold = True\n",
    "    z = cabecalho.add_run('\\nAÇÕES NO ESTADO')\n",
    "    z.bold = True\n",
    "    z.underline = True\n",
    "    doc_subsidio.add_paragraph()\n",
    "    \n",
    "    # Cabeçalho 2\n",
    "    dev_nome = doc_subsidio.add_table(rows=1, cols=1)\n",
    "    \n",
    "    data_criacao = datetime.date.today()\n",
    "    introducao = doc_subsidio.add_paragraph(f'No Estado de {estados[uf].capitalize()}, em {data_criacao.day} de {month_name[str(data_criacao.month)]} de {data_criacao.year}, destacamos os seguintes instrumentos de transferência voluntária afetos ao enfrentamento à violência contra as mulheres.')\n",
    "    introducao.alignment = WD_ALIGN_PARAGRAPH.JUSTIFY\n",
    "    \n",
    "    # Convênios\n",
    "    if data_temp_conv.shape[0] > 0:\n",
    "        for c, _ in enumerate(data_temp_conv.values):\n",
    "            linha = data_temp_conv.iloc[c]\n",
    "            vr = f'{linha[\"VALOR DE REPASSE\"]:.2f}'\n",
    "            vt = f'{linha[\"VALOR DO CONVÊNIO\"]:.2f}' \n",
    "            \n",
    "            nome = 'Convênio'\n",
    "            if linha['INSTRUMENTO'] == 'TERMO DE FOMENTO':\n",
    "                nome = 'Termo de Fomento'\n",
    "            \n",
    "            convenios_texto = doc_subsidio.add_paragraph(style='List Number')\n",
    "            convenio_numero = convenios_texto.add_run(f'{nome} nº {linha[\"Nº PLATAFORMA +BRASIL\"]}\\n')\n",
    "            convenio_numero.bold = True\n",
    "            convenio_numero.underline = True\n",
    "            convenio_l = convenios_texto.add_run(f'Objeto: ')\n",
    "            convenio_l.bold = True\n",
    "            convenios_texto.add_run(f'{linha[\"OBJETO\"]}')\n",
    "            if linha['OBJETO'][-1] != '.':\n",
    "                convenios_texto.add_run('.')\n",
    "            \n",
    "            convenio_l = convenios_texto.add_run('\\nOrigem do recurso: ')\n",
    "            convenio_l.bold = True\n",
    "            convenios_texto.add_run(f'{linha[\"ORIGEM DO RECURSO\"]}, ')\n",
    "            \n",
    "            #if linha['ORIGEM DO RECURSO'] == 'RP6':\n",
    "            #    teste = linha['EMENDA'].split()\n",
    "            #    print(teste)\n",
    "            #    convenios_texto.add_run(f'Emenda Parlamentar de autoria do(a) Deputado(a) Federal.')\n",
    "            #else:\n",
    "            #    convenios_texto.add_run(f'{linha[\"EMENDA\"]}.')\n",
    "            \n",
    "            convenios_texto.add_run(\n",
    "            f'Emenda: {linha[\"EMENDA\"]}')\n",
    "            doc_subsidio.add_paragraph()\n",
    "            \n",
    "            convenio_l = convenios_texto.add_run('\\nValor total: ')\n",
    "            convenio_l.bold = True\n",
    "            convenios_texto.add_run(f'R$ {vt.replace(\".\", \",\")}.')\n",
    "            \n",
    "            convenio_l = convenios_texto.add_run('\\nValor de repasse: ')\n",
    "            convenio_l.bold = True\n",
    "            convenios_texto.add_run(f'R$ {vr.replace(\".\", \",\")}.')\n",
    "            \n",
    "            convenio_l = convenios_texto.add_run('\\nStatus: ')\n",
    "            convenio_l.bold = True\n",
    "            convenios_texto.add_run(f'{linha[\"FASE\"].strip()}.')\n",
    "\n",
    "    # Contratos de Repasse\n",
    "    if data_temp_ct.shape[0] > 0:\n",
    "        for c, _ in enumerate(data_temp_ct.values):\n",
    "            linha = data_temp_ct.iloc[c]\n",
    "            vr = f'{linha[\"VALOR DE REPASSE\"]:.2f}'\n",
    "            vt = f'{linha[\"VALOR TOTAL DO CONVÊNIO\"]:.2f}' \n",
    "            \n",
    "            doc_subsidio.add_paragraph(\n",
    "                f'''Contrato de Repasse n° {linha[\"CONVÊNIO SICONV\"]}\\nObjeto: {linha[\"OBJETO\"]} \\nOrigem do recurso: {linha[\"ORIGEM DO RECURSO\"]}\\nEmenda: {linha[\"AUTOR EMENDA (Partido/UF)\"]} \\nValor Total: R$ {vt.replace(\".\", \",\")} \\nValor Total de Repasse: R$ {vr.replace(\".\", \",\")} \\nStatus: {linha['SITUAÇÃO'].strip()}.''', style='List Number'\n",
    "            )\n",
    "            doc_subsidio.add_paragraph()\n",
    "\n",
    "    # TEDs\n",
    "    if data_temp_ted.shape[0] > 0:\n",
    "        for c, _ in enumerate(data_temp_ted.values):\n",
    "            linha = data_temp_ted.iloc[c]\n",
    "            vr = f'{linha[\"VALOR DE REPASSE\"]:.2f}'\n",
    "            vt = f'{linha[\"VALOR TOTAL DO CONVÊNIO\"]:.2f}' \n",
    "            \n",
    "            doc_subsidio.add_paragraph(\n",
    "                f'''TED n° {linha[\"PROPOSTA SICONV\"]}\\nObjeto: {linha[\"OBJETO\"]} \\nOrigem do recurso: \\nValor Total: R$ {vt.replace(\".\", \",\")}\\nEmenda: {linha[\"AUTOR EMENDA (Partido/UF)\"]} \\nValor Total de Repasse: R$ {vr.replace(\".\", \",\")} \\nStatus: {str(linha['SITUAÇÃO']).strip()}.''', style='List Number'\n",
    "            )\n",
    "            doc_subsidio.add_paragraph()\n",
    "\n",
    "    # ACT    \n",
    "    if data_temp_act.shape[0] > 0:\n",
    "        for c, _ in enumerate(data_temp_act.values):\n",
    "            linha = data_temp_act.iloc[c]\n",
    "            doc_subsidio.add_paragraph(\n",
    "                f'ACT n° SEI {linha[\"Nº PROCESSO SEI\"]}\\nObjeto: {linha[\"OBJETO\"]} \\nOrigem do recurso: \\nValor Total: não há transferência de recursos. \\nValor Total de Repasse: não há transferência de recursos. \\nStatus: Em execução.', style= 'List Number')\n",
    "            doc_subsidio.add_paragraph()\n",
    "    \n",
    "    # Finalização\n",
    "    doc_subsidio.add_paragraph('Permanecemos à disposição para esclarecimentos adicionais.')\n",
    "\n",
    "    # Salvamento do arquivo\n",
    "    doc_subsidio.save(f'{uf.upper()}_subsidio.docx')"
   ]
  },
  {
   "cell_type": "code",
   "execution_count": 29,
   "id": "57de9c9a",
   "metadata": {
    "scrolled": true
   },
   "outputs": [],
   "source": [
    "uf = 'DF'\n",
    "gerar_subsidio_uf('DF')"
   ]
  },
  {
   "cell_type": "code",
   "execution_count": null,
   "id": "fbafd904",
   "metadata": {},
   "outputs": [],
   "source": []
  }
 ],
 "metadata": {
  "kernelspec": {
   "display_name": "Python 3 (ipykernel)",
   "language": "python",
   "name": "python3"
  },
  "language_info": {
   "codemirror_mode": {
    "name": "ipython",
    "version": 3
   },
   "file_extension": ".py",
   "mimetype": "text/x-python",
   "name": "python",
   "nbconvert_exporter": "python",
   "pygments_lexer": "ipython3",
   "version": "3.9.12"
  },
  "varInspector": {
   "cols": {
    "lenName": 16,
    "lenType": 16,
    "lenVar": 40
   },
   "kernels_config": {
    "python": {
     "delete_cmd_postfix": "",
     "delete_cmd_prefix": "del ",
     "library": "var_list.py",
     "varRefreshCmd": "print(var_dic_list())"
    },
    "r": {
     "delete_cmd_postfix": ") ",
     "delete_cmd_prefix": "rm(",
     "library": "var_list.r",
     "varRefreshCmd": "cat(var_dic_list()) "
    }
   },
   "types_to_exclude": [
    "module",
    "function",
    "builtin_function_or_method",
    "instance",
    "_Feature"
   ],
   "window_display": false
  }
 },
 "nbformat": 4,
 "nbformat_minor": 5
}
